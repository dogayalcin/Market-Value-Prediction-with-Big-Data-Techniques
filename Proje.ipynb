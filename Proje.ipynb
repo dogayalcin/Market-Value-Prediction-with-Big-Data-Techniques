{
 "cells": [
  {
   "cell_type": "code",
   "execution_count": 1,
   "id": "e56dd89b",
   "metadata": {},
   "outputs": [],
   "source": [
    "from pyspark.sql import SparkSession\n",
    "import pandas as pd\n",
    "spark = SparkSession.builder.master(\"local[*]\").getOrCreate()"
   ]
  },
  {
   "cell_type": "code",
   "execution_count": 2,
   "id": "e8f9e83a",
   "metadata": {},
   "outputs": [],
   "source": [
    "df = spark.read.format(\"csv\").option(\"header\", \"true\").load(\"soccer_player.csv\")"
   ]
  },
  {
   "cell_type": "code",
   "execution_count": 3,
   "id": "3c0ddca7",
   "metadata": {},
   "outputs": [],
   "source": [
    "df2 = spark.read.format(\"csv\").option(\"header\", \"true\").load(\"lig_takim.csv\")"
   ]
  },
  {
   "cell_type": "code",
   "execution_count": 4,
   "id": "c8d11701",
   "metadata": {},
   "outputs": [],
   "source": [
    "#drop if League is MLS\n",
    "df = df.drop(df.League==\"MLS\")"
   ]
  },
  {
   "cell_type": "code",
   "execution_count": 5,
   "id": "3ebcd7ca",
   "metadata": {},
   "outputs": [],
   "source": [
    "#Drop 2 attributes in df -> League and _c0\n",
    "df = df.drop((\"League\"))\n",
    "df = df.drop((\"_c0\"))"
   ]
  },
  {
   "cell_type": "code",
   "execution_count": 6,
   "id": "4cd0e50b",
   "metadata": {},
   "outputs": [
    {
     "data": {
      "text/plain": [
       "DataFrame[Team: string, player: string, Substitution : string, xG Per Avg Match: string, Shots: string, OnTarget: string, Shots Per Avg Match: string, On Target Per Avg Match: string, value: string, nationality: string, position: string, squad: string, goals: string, goals_per_shot: string, passes_completed: string, assisted_shots: string, passes_blocked: string, touches: string, height: string, assists: string, games_starts: string, minutes: string, squad: string, League: string]"
      ]
     },
     "execution_count": 6,
     "metadata": {},
     "output_type": "execute_result"
    }
   ],
   "source": [
    "#join two dataframes\n",
    "data_frame = df.join(df2, df['squad'] == df2['squad'])\n",
    "data_frame"
   ]
  },
  {
   "cell_type": "code",
   "execution_count": 7,
   "id": "a23d80ee",
   "metadata": {},
   "outputs": [
    {
     "data": {
      "text/plain": [
       "DataFrame[squad: string, Team: string, player: string, Substitution : string, xG Per Avg Match: string, Shots: string, OnTarget: string, Shots Per Avg Match: string, On Target Per Avg Match: string, value: string, nationality: string, position: string, goals: string, goals_per_shot: string, passes_completed: string, assisted_shots: string, passes_blocked: string, touches: string, height: string, assists: string, games_starts: string, minutes: string, League: string]"
      ]
     },
     "execution_count": 7,
     "metadata": {},
     "output_type": "execute_result"
    }
   ],
   "source": [
    "#after join, drop duplicate columns\n",
    "data_frame = df.join(df2,['squad'])\n",
    "data_frame"
   ]
  },
  {
   "cell_type": "code",
   "execution_count": 8,
   "id": "d222cd0a",
   "metadata": {},
   "outputs": [
    {
     "data": {
      "text/plain": [
       "DataFrame[squad: string, Team: string, player: string, Substitution : string, xG Per Avg Match: string, Shots: string, OnTarget: string, Shots Per Avg Match: string, On Target Per Avg Match: string, value: string, nationality: string, position: string, goals: string, goals_per_shot: string, passes_completed: string, assisted_shots: string, passes_blocked: string, touches: string, height: string, assists: string, games_starts: string, minutes: string, League: string]"
      ]
     },
     "metadata": {},
     "output_type": "display_data"
    }
   ],
   "source": [
    "display(data_frame)"
   ]
  },
  {
   "cell_type": "code",
   "execution_count": 9,
   "id": "be1f08ed",
   "metadata": {},
   "outputs": [
    {
     "name": "stdout",
     "output_type": "stream",
     "text": [
      "Row(squad='Real Madrid', Team='1', player='Karim Benzema', Substitution ='0', xG Per Avg Match='0.63', Shots='27', OnTarget='12', Shots Per Avg Match='3.46', On Target Per Avg Match='1.54', value='32000000', nationality='fr FRA', position='FW', goals='21', goals_per_shot='0.14', passes_completed='1119', assisted_shots='61', passes_blocked='36', touches='1688', height='184', assists='8', games_starts='36', minutes='3141', League='La Liga')\n"
     ]
    }
   ],
   "source": [
    "print(data_frame.collect()[0])"
   ]
  },
  {
   "cell_type": "code",
   "execution_count": 10,
   "id": "09131b5f",
   "metadata": {},
   "outputs": [
    {
     "name": "stdout",
     "output_type": "stream",
     "text": [
      "root\n",
      " |-- squad: string (nullable = true)\n",
      " |-- Team: string (nullable = true)\n",
      " |-- player: string (nullable = true)\n",
      " |-- Substitution : string (nullable = true)\n",
      " |-- xG Per Avg Match: string (nullable = true)\n",
      " |-- Shots: string (nullable = true)\n",
      " |-- OnTarget: string (nullable = true)\n",
      " |-- Shots Per Avg Match: string (nullable = true)\n",
      " |-- On Target Per Avg Match: string (nullable = true)\n",
      " |-- value: string (nullable = true)\n",
      " |-- nationality: string (nullable = true)\n",
      " |-- position: string (nullable = true)\n",
      " |-- goals: string (nullable = true)\n",
      " |-- goals_per_shot: string (nullable = true)\n",
      " |-- passes_completed: string (nullable = true)\n",
      " |-- assisted_shots: string (nullable = true)\n",
      " |-- passes_blocked: string (nullable = true)\n",
      " |-- touches: string (nullable = true)\n",
      " |-- height: string (nullable = true)\n",
      " |-- assists: string (nullable = true)\n",
      " |-- games_starts: string (nullable = true)\n",
      " |-- minutes: string (nullable = true)\n",
      " |-- League: string (nullable = true)\n",
      "\n"
     ]
    }
   ],
   "source": [
    "data_frame.printSchema()"
   ]
  },
  {
   "cell_type": "code",
   "execution_count": 11,
   "id": "6ccb81e6",
   "metadata": {},
   "outputs": [],
   "source": [
    "from pyspark.sql.types import IntegerType\n",
    "from pyspark.sql.types import DoubleType\n",
    "from pyspark.sql.functions import col\n",
    "#turn to numerical type\n",
    "data_frame = data_frame.withColumn('goals',col('goals').cast(IntegerType()))"
   ]
  },
  {
   "cell_type": "code",
   "execution_count": 12,
   "id": "cdb2dbc3",
   "metadata": {},
   "outputs": [],
   "source": [
    "data_frame = data_frame.withColumn('Substitution',col('goals').cast(IntegerType()))\n",
    "data_frame = data_frame.withColumn('xG Per Avg Match',col('xG Per Avg Match').cast(DoubleType()))\n",
    "data_frame = data_frame.withColumn('Shots',col('Shots').cast(IntegerType()))\n",
    "data_frame = data_frame.withColumn('OnTarget',col('OnTarget').cast(IntegerType()))\n",
    "data_frame = data_frame.withColumn('Shots Per Avg Match',col('Shots Per Avg Match').cast(DoubleType()))\n",
    "data_frame = data_frame.withColumn('On Target Per Avg Match',col('On Target Per Avg Match').cast(DoubleType()))\n",
    "data_frame = data_frame.withColumn('value',col('value').cast(IntegerType()))\n",
    "data_frame = data_frame.withColumn('goals_per_shot',col('goals_per_shot').cast(DoubleType()))\n",
    "data_frame = data_frame.withColumn('passes_completed',col('passes_completed').cast(IntegerType()))\n",
    "data_frame = data_frame.withColumn('assisted_shots',col('assisted_shots').cast(IntegerType()))\n",
    "data_frame = data_frame.withColumn('passes_blocked',col('passes_blocked').cast(IntegerType()))\n",
    "data_frame = data_frame.withColumn('touches',col('touches').cast(IntegerType()))\n",
    "data_frame = data_frame.withColumn('height',col('height').cast(IntegerType()))\n",
    "data_frame = data_frame.withColumn('games_starts',col('games_starts').cast(IntegerType()))\n",
    "data_frame = data_frame.withColumn('minutes',col('minutes').cast(IntegerType()))\n",
    "data_frame = data_frame.withColumn('assists',col('assists').cast(IntegerType()))"
   ]
  },
  {
   "cell_type": "code",
   "execution_count": 13,
   "id": "79dc2901",
   "metadata": {},
   "outputs": [
    {
     "name": "stdout",
     "output_type": "stream",
     "text": [
      "root\n",
      " |-- squad: string (nullable = true)\n",
      " |-- Team: string (nullable = true)\n",
      " |-- player: string (nullable = true)\n",
      " |-- Substitution : string (nullable = true)\n",
      " |-- xG Per Avg Match: double (nullable = true)\n",
      " |-- Shots: integer (nullable = true)\n",
      " |-- OnTarget: integer (nullable = true)\n",
      " |-- Shots Per Avg Match: double (nullable = true)\n",
      " |-- On Target Per Avg Match: double (nullable = true)\n",
      " |-- value: integer (nullable = true)\n",
      " |-- nationality: string (nullable = true)\n",
      " |-- position: string (nullable = true)\n",
      " |-- goals: integer (nullable = true)\n",
      " |-- goals_per_shot: double (nullable = true)\n",
      " |-- passes_completed: integer (nullable = true)\n",
      " |-- assisted_shots: integer (nullable = true)\n",
      " |-- passes_blocked: integer (nullable = true)\n",
      " |-- touches: integer (nullable = true)\n",
      " |-- height: integer (nullable = true)\n",
      " |-- assists: integer (nullable = true)\n",
      " |-- games_starts: integer (nullable = true)\n",
      " |-- minutes: integer (nullable = true)\n",
      " |-- League: string (nullable = true)\n",
      " |-- Substitution: integer (nullable = true)\n",
      "\n"
     ]
    }
   ],
   "source": [
    "data_frame.printSchema()"
   ]
  },
  {
   "cell_type": "code",
   "execution_count": 14,
   "id": "567a14e5",
   "metadata": {},
   "outputs": [],
   "source": [
    "from handyspark import *\n",
    "import matplotlib.pyplot as plt"
   ]
  },
  {
   "cell_type": "code",
   "execution_count": 15,
   "id": "4de3a360",
   "metadata": {},
   "outputs": [
    {
     "name": "stderr",
     "output_type": "stream",
     "text": [
      "C:\\Users\\TUBA\\anaconda3.2\\lib\\site-packages\\pyspark\\sql\\dataframe.py:148: UserWarning: DataFrame.sql_ctx is an internal property, and will be removed in future releases. Use DataFrame.sparkSession instead.\n",
      "  warnings.warn(\n",
      "C:\\Users\\TUBA\\anaconda3.2\\lib\\site-packages\\pyspark\\sql\\dataframe.py:127: UserWarning: DataFrame constructor is internal. Do not directly use it.\n",
      "  warnings.warn(\"DataFrame constructor is internal. Do not directly use it.\")\n"
     ]
    }
   ],
   "source": [
    "hdf = data_frame.toHandy()"
   ]
  },
  {
   "cell_type": "code",
   "execution_count": 16,
   "id": "094e2ec3",
   "metadata": {},
   "outputs": [
    {
     "data": {
      "image/png": "[encoded data removed]",
      "text/plain": [
       "<Figure size 720x504 with 1 Axes>"
      ]
     },
     "metadata": {
      "needs_background": "light"
     },
     "output_type": "display_data"
    }
   ],
   "source": [
    "#distribuiton of class League\n",
    "fig, ax = plt.subplots(figsize=(10, 7))\n",
    "hdf.cols['League'].hist(ax=ax)\n",
    "plt.show()"
   ]
  },
  {
   "cell_type": "code",
   "execution_count": 17,
   "id": "1433aaeb",
   "metadata": {},
   "outputs": [
    {
     "data": {
      "text/plain": [
       "[]"
      ]
     },
     "execution_count": 17,
     "metadata": {},
     "output_type": "execute_result"
    },
    {
     "data": {
      "image/png": "[encoded data removed]",
      "text/plain": [
       "<Figure size 432x288 with 1 Axes>"
      ]
     },
     "metadata": {
      "needs_background": "light"
     },
     "output_type": "display_data"
    }
   ],
   "source": [
    "import pandas as pd\n",
    "b_plot = data_frame.toPandas().boxplot(column = ['goals', 'goals_per_shot', 'assists','assisted_shots','xG Per Avg Match'])\n",
    "b_plot.plot()"
   ]
  },
  {
   "cell_type": "code",
   "execution_count": 18,
   "id": "d1a939f0",
   "metadata": {},
   "outputs": [
    {
     "data": {
      "image/png": "[encoded data removed]",
      "text/plain": [
       "<Figure size 432x288 with 1 Axes>"
      ]
     },
     "metadata": {
      "needs_background": "light"
     },
     "output_type": "display_data"
    }
   ],
   "source": [
    "data_frame.toPandas().plot.scatter(x='goals', y='value', title= \"Goals - Value\");"
   ]
  },
  {
   "cell_type": "code",
   "execution_count": 19,
   "id": "6c4310b3",
   "metadata": {},
   "outputs": [
    {
     "data": {
      "image/png": "[encoded data removed]",
      "text/plain": [
       "<Figure size 432x288 with 1 Axes>"
      ]
     },
     "metadata": {
      "needs_background": "light"
     },
     "output_type": "display_data"
    }
   ],
   "source": [
    "data_frame.toPandas().plot.scatter(x='assists', y='value', title= \"Goals - Value\");"
   ]
  },
  {
   "cell_type": "code",
   "execution_count": 39,
   "id": "f91b56e3",
   "metadata": {},
   "outputs": [
    {
     "data": {
      "image/png": "[encoded data removed]",
      "text/plain": [
       "<Figure size 432x288 with 1 Axes>"
      ]
     },
     "metadata": {
      "needs_background": "light"
     },
     "output_type": "display_data"
    }
   ],
   "source": [
    "data_frame.toPandas().plot.scatter(x='minutes', y='value', title= \"Minutes - Value\");"
   ]
  },
  {
   "cell_type": "code",
   "execution_count": 21,
   "id": "adcce3f7",
   "metadata": {},
   "outputs": [
    {
     "data": {
      "image/png": "[encoded data removed]",
      "text/plain": [
       "<Figure size 432x288 with 1 Axes>"
      ]
     },
     "metadata": {
      "needs_background": "light"
     },
     "output_type": "display_data"
    }
   ],
   "source": [
    "data_frame.toPandas().plot.scatter(x='touches', y='value', title= \"Goals - Value\");"
   ]
  },
  {
   "cell_type": "code",
   "execution_count": 22,
   "id": "80839002",
   "metadata": {},
   "outputs": [
    {
     "data": {
      "text/plain": [
       "()"
      ]
     },
     "execution_count": 22,
     "metadata": {},
     "output_type": "execute_result"
    },
    {
     "data": {
      "image/png": "[encoded data removed]",
      "text/plain": [
       "<Figure size 432x288 with 1 Axes>"
      ]
     },
     "metadata": {
      "needs_background": "light"
     },
     "output_type": "display_data"
    }
   ],
   "source": [
    "data_frame.toPandas().plot.scatter(x='height', y='value', title= \"Goals - Value\");()"
   ]
  },
  {
   "cell_type": "code",
   "execution_count": 23,
   "id": "c16a4438",
   "metadata": {},
   "outputs": [
    {
     "data": {
      "text/plain": [
       "()"
      ]
     },
     "execution_count": 23,
     "metadata": {},
     "output_type": "execute_result"
    },
    {
     "data": {
      "image/png": "[encoded data removed]",
      "text/plain": [
       "<Figure size 432x288 with 1 Axes>"
      ]
     },
     "metadata": {
      "needs_background": "light"
     },
     "output_type": "display_data"
    }
   ],
   "source": [
    "data_frame.toPandas().plot.scatter( x='value',y='height', title= \"Goals - Value\");()"
   ]
  },
  {
   "cell_type": "code",
   "execution_count": 24,
   "id": "59e4053f",
   "metadata": {},
   "outputs": [
    {
     "data": {
      "text/plain": [
       "()"
      ]
     },
     "execution_count": 24,
     "metadata": {},
     "output_type": "execute_result"
    },
    {
     "data": {
      "image/png": "[encoded data removed]",
      "text/plain": [
       "<Figure size 432x288 with 1 Axes>"
      ]
     },
     "metadata": {
      "needs_background": "light"
     },
     "output_type": "display_data"
    }
   ],
   "source": [
    "data_frame.toPandas().plot.scatter( x='value',y='games_starts', title= \"Goals - Value\");()"
   ]
  },
  {
   "cell_type": "code",
   "execution_count": 25,
   "id": "289240e3",
   "metadata": {
    "scrolled": false
   },
   "outputs": [
    {
     "data": {
      "text/plain": [
       "()"
      ]
     },
     "execution_count": 25,
     "metadata": {},
     "output_type": "execute_result"
    },
    {
     "data": {
      "image/png": "[encoded data removed]",
      "text/plain": [
       "<Figure size 432x288 with 1 Axes>"
      ]
     },
     "metadata": {
      "needs_background": "light"
     },
     "output_type": "display_data"
    }
   ],
   "source": [
    "data_frame.toPandas().plot.scatter( x='value',y='Substitution', title= \"Goals - Value\");()"
   ]
  },
  {
   "cell_type": "markdown",
   "id": "83f5f839",
   "metadata": {},
   "source": [
    "### Data Manipulation"
   ]
  },
  {
   "cell_type": "markdown",
   "id": "01c29562",
   "metadata": {},
   "source": [
    "##### Correlation Matrix"
   ]
  },
  {
   "cell_type": "code",
   "execution_count": 31,
   "id": "48b99b0d",
   "metadata": {},
   "outputs": [],
   "source": [
    "from pyspark.mllib.stat import Statistics\n",
    "import pandas as pd\n",
    "\n",
    "# result can be used w/ seaborn's heatmap\n",
    "def compute_correlation_matrix(df, method='pearson'):\n",
    "    # wrapper around\n",
    "    # https://forums.databricks.com/questions/3092/how-to-calculate-correlation-matrix-with-all-colum.html\n",
    "    df_rdd = df.rdd.map(lambda row: row[0:])\n",
    "    corr_mat = Statistics.corr(df_rdd, method=method)\n",
    "    corr_mat_df = pd.DataFrame(corr_mat,\n",
    "                    columns=df.columns, \n",
    "                    index=df.columns)\n",
    "    return corr_mat_df"
   ]
  },
  {
   "cell_type": "code",
   "execution_count": 33,
   "id": "8f1886ec",
   "metadata": {},
   "outputs": [
    {
     "data": {
      "text/plain": [
       "0.4363000874993775"
      ]
     },
     "execution_count": 33,
     "metadata": {},
     "output_type": "execute_result"
    }
   ],
   "source": [
    "data_frame.stat.corr('goals','value')"
   ]
  },
  {
   "cell_type": "code",
   "execution_count": 38,
   "id": "a72b0eb4",
   "metadata": {},
   "outputs": [
    {
     "ename": "ValueError",
     "evalue": "DataFrame constructor not properly called!",
     "output_type": "error",
     "traceback": [
      "\u001b[1;31m---------------------------------------------------------------------------\u001b[0m",
      "\u001b[1;31mValueError\u001b[0m                                Traceback (most recent call last)",
      "Input \u001b[1;32mIn [38]\u001b[0m, in \u001b[0;36m<cell line: 2>\u001b[1;34m()\u001b[0m\n\u001b[0;32m      1\u001b[0m \u001b[38;5;28;01mimport\u001b[39;00m \u001b[38;5;21;01mpandas\u001b[39;00m \u001b[38;5;28;01mas\u001b[39;00m \u001b[38;5;21;01mpd\u001b[39;00m\n\u001b[1;32m----> 2\u001b[0m data \u001b[38;5;241m=\u001b[39m \u001b[43mpd\u001b[49m\u001b[38;5;241;43m.\u001b[39;49m\u001b[43mDataFrame\u001b[49m\u001b[43m(\u001b[49m\u001b[43mdata_frame\u001b[49m\u001b[43m)\u001b[49m\n\u001b[0;32m      3\u001b[0m data\u001b[38;5;241m.\u001b[39mcorr()\n",
      "File \u001b[1;32m~\\anaconda3.2\\lib\\site-packages\\pandas\\core\\frame.py:756\u001b[0m, in \u001b[0;36mDataFrame.__init__\u001b[1;34m(self, data, index, columns, dtype, copy)\u001b[0m\n\u001b[0;32m    753\u001b[0m \u001b[38;5;66;03m# For data is scalar\u001b[39;00m\n\u001b[0;32m    754\u001b[0m \u001b[38;5;28;01melse\u001b[39;00m:\n\u001b[0;32m    755\u001b[0m     \u001b[38;5;28;01mif\u001b[39;00m index \u001b[38;5;129;01mis\u001b[39;00m \u001b[38;5;28;01mNone\u001b[39;00m \u001b[38;5;129;01mor\u001b[39;00m columns \u001b[38;5;129;01mis\u001b[39;00m \u001b[38;5;28;01mNone\u001b[39;00m:\n\u001b[1;32m--> 756\u001b[0m         \u001b[38;5;28;01mraise\u001b[39;00m \u001b[38;5;167;01mValueError\u001b[39;00m(\u001b[38;5;124m\"\u001b[39m\u001b[38;5;124mDataFrame constructor not properly called!\u001b[39m\u001b[38;5;124m\"\u001b[39m)\n\u001b[0;32m    758\u001b[0m     \u001b[38;5;66;03m# Argument 1 to \"ensure_index\" has incompatible type \"Collection[Any]\";\u001b[39;00m\n\u001b[0;32m    759\u001b[0m     \u001b[38;5;66;03m# expected \"Union[Union[Union[ExtensionArray, ndarray],\u001b[39;00m\n\u001b[0;32m    760\u001b[0m     \u001b[38;5;66;03m# Index, Series], Sequence[Any]]\"\u001b[39;00m\n\u001b[0;32m    761\u001b[0m     index \u001b[38;5;241m=\u001b[39m ensure_index(index)  \u001b[38;5;66;03m# type: ignore[arg-type]\u001b[39;00m\n",
      "\u001b[1;31mValueError\u001b[0m: DataFrame constructor not properly called!"
     ]
    }
   ],
   "source": [
    "import pandas as pd\n",
    "data = pd.DataFrame(data_frame)\n",
    "data.corr()"
   ]
  },
  {
   "cell_type": "code",
   "execution_count": null,
   "id": "bcc3cc68",
   "metadata": {},
   "outputs": [],
   "source": []
  }
 ],
 "metadata": {
  "kernelspec": {
   "display_name": "Python 3 (ipykernel)",
   "language": "python",
   "name": "python3"
  },
  "language_info": {
   "codemirror_mode": {
    "name": "ipython",
    "version": 3
   },
   "file_extension": ".py",
   "mimetype": "text/x-python",
   "name": "python",
   "nbconvert_exporter": "python",
   "pygments_lexer": "ipython3",
   "version": "3.9.12"
  }
 },
 "nbformat": 4,
 "nbformat_minor": 5
}
